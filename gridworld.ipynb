{
 "cells": [
  {
   "cell_type": "code",
   "execution_count": 21,
   "metadata": {},
   "outputs": [],
   "source": [
    "import numpy as np"
   ]
  },
  {
   "cell_type": "code",
   "execution_count": 22,
   "metadata": {},
   "outputs": [],
   "source": [
    "grid_size = 4\n",
    "min_delta = 0.001\n",
    "actions = ['up','down','left','right']\n",
    "policies = np.random.choice(actions, size=(grid_size,grid_size))\n",
    "policies[0,0] = policies[grid_size-1, grid_size-1] = ''\n",
    "v = np.zeros((grid_size, grid_size))\n",
    "probs = [0.25]*4"
   ]
  },
  {
   "cell_type": "code",
   "execution_count": 23,
   "metadata": {},
   "outputs": [],
   "source": [
    "def v_next(v, horizontal, vertical):\n",
    "    if horizontal < 0:\n",
    "        horizontal = 0\n",
    "    elif horizontal >= grid_size:\n",
    "        horizontal = grid_size - 1\n",
    "    if vertical < 0:\n",
    "        vertical = 0\n",
    "    elif vertical >= grid_size:\n",
    "        vertical = grid_size - 1\n",
    "    return v[horizontal, vertical]"
   ]
  },
  {
   "cell_type": "code",
   "execution_count": 24,
   "metadata": {},
   "outputs": [],
   "source": [
    "while True:\n",
    "    delta = 0\n",
    "    for i in range(grid_size):\n",
    "        for j in range(grid_size):\n",
    "            if not (i==j==0 or i==j==grid_size-1):\n",
    "                new_v = v.copy()\n",
    "                new_v[i,j] = np.dot(probs, [v_next(v,i,j+1), v_next(v,i,j-1), v_next(v,i-1,j), v_next(v,i+1,j)]) - 1\n",
    "                delta = max(delta, abs(new_v[i,j]-v[i,j]))\n",
    "                v = new_v\n",
    "    if delta < min_delta:\n",
    "        break"
   ]
  },
  {
   "cell_type": "code",
   "execution_count": 25,
   "metadata": {},
   "outputs": [
    {
     "data": {
      "text/plain": [
       "array([[  0.        , -13.99330608, -19.99037659, -21.98940765],\n",
       "       [-13.99330608, -17.99178568, -19.99108113, -19.99118312],\n",
       "       [-19.99037659, -19.99108113, -17.99247411, -13.99438108],\n",
       "       [-21.98940765, -19.99118312, -13.99438108,   0.        ]])"
      ]
     },
     "execution_count": 25,
     "metadata": {},
     "output_type": "execute_result"
    }
   ],
   "source": [
    "v"
   ]
  }
 ],
 "metadata": {
  "kernelspec": {
   "display_name": "Python 3",
   "language": "python",
   "name": "python3"
  },
  "language_info": {
   "codemirror_mode": {
    "name": "ipython",
    "version": 3
   },
   "file_extension": ".py",
   "mimetype": "text/x-python",
   "name": "python",
   "nbconvert_exporter": "python",
   "pygments_lexer": "ipython3",
   "version": "3.6.5"
  }
 },
 "nbformat": 4,
 "nbformat_minor": 2
}
