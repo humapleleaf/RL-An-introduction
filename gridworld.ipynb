{
 "cells": [
  {
   "cell_type": "code",
   "execution_count": 88,
   "metadata": {},
   "outputs": [],
   "source": [
    "import numpy as np"
   ]
  },
  {
   "cell_type": "code",
   "execution_count": 89,
   "metadata": {},
   "outputs": [],
   "source": [
    "def v_next(v, row, column):\n",
    "    if row < 0:\n",
    "        row = 0\n",
    "    elif row >= grid_size:\n",
    "        row = grid_size - 1\n",
    "    if column < 0:\n",
    "        column = 0\n",
    "    elif column >= grid_size:\n",
    "        column = grid_size - 1\n",
    "    return v[row, column]\n",
    "\n",
    "def to_coordinates(i,j,action):\n",
    "    assert isinstance(action, str)\n",
    "    if action == 'up':\n",
    "        row, column = 1, 0\n",
    "    elif action == 'down':\n",
    "        row, column = -1, 0\n",
    "    elif action == 'left':\n",
    "        row, column = 0, -1\n",
    "    elif action == 'right':\n",
    "        row, column = 0, 1\n",
    "    else:\n",
    "        raise ValueError('action is wrong!')\n",
    "    return i+row, j+column"
   ]
  },
  {
   "cell_type": "code",
   "execution_count": 90,
   "metadata": {},
   "outputs": [],
   "source": [
    "grid_size = 4\n",
    "min_delta = 0.001\n",
    "gamma = 1\n",
    "reward = -1\n",
    "actions = ['up','down','left','right']\n",
    "policies = np.random.choice(actions, size=(grid_size,grid_size))\n",
    "policies[0,0] = policies[grid_size-1, grid_size-1] = ''\n",
    "v = np.zeros((grid_size, grid_size))\n",
    "probs = [0.25]*4"
   ]
  },
  {
   "cell_type": "code",
   "execution_count": 91,
   "metadata": {},
   "outputs": [
    {
     "data": {
      "text/plain": [
       "array([[  0.        , -13.98945772, -19.98437823, -21.98251832],\n",
       "       [-13.98945772, -17.98623815, -19.98448273, -19.98437823],\n",
       "       [-19.98437823, -19.98448273, -17.98623815, -13.98945772],\n",
       "       [-21.98251832, -19.98437823, -13.98945772,   0.        ]])"
      ]
     },
     "execution_count": 91,
     "metadata": {},
     "output_type": "execute_result"
    }
   ],
   "source": [
    "## Iterative plice evaluation on page 75\n",
    "while True:\n",
    "    delta = 0\n",
    "    new_v = v.copy()\n",
    "    for i in range(grid_size):\n",
    "        for j in range(grid_size):\n",
    "            if not (i==j==0 or i==j==grid_size-1):\n",
    "                new_v[i,j] = np.dot(probs, [v_next(v,i,j+1), v_next(v,i,j-1), v_next(v,i-1,j), v_next(v,i+1,j)]) + reward\n",
    "                delta = max(delta, abs(new_v[i,j]-v[i,j]))\n",
    "    v = new_v\n",
    "    if delta < min_delta:\n",
    "        break\n",
    "\n",
    "v"
   ]
  },
  {
   "cell_type": "code",
   "execution_count": 92,
   "metadata": {},
   "outputs": [
    {
     "name": "stdout",
     "output_type": "stream",
     "text": [
      "# of iteration: 4\n",
      "[[ 0. -1. -2. -3.]\n",
      " [-1. -2. -3. -2.]\n",
      " [-2. -3. -2. -1.]\n",
      " [-3. -2. -1.  0.]]\n",
      "[['' 'left' 'left' 'up']\n",
      " ['down' 'down' 'up' 'up']\n",
      " ['down' 'up' 'up' 'up']\n",
      " ['down' 'right' 'right' '']]\n"
     ]
    }
   ],
   "source": [
    "## Policy iteration on page 80\n",
    "k = 1\n",
    "policies = np.array([['','left','left','left'],\n",
    "           ['down','left','left','left'],\n",
    "           ['right','right','right','up'],\n",
    "           ['right','right','right','']])     #avoid endless loop\n",
    "v = np.zeros((grid_size, grid_size))\n",
    "\n",
    "while True:\n",
    "    ## plice evaluation\n",
    "    while True:\n",
    "        delta = 0\n",
    "        new_v = v.copy()\n",
    "        for i in range(grid_size):\n",
    "            for j in range(grid_size):\n",
    "                if not (i==j==0 or i==j==grid_size-1):\n",
    "                    horizontal, vertical = to_coordinates(i,j,policies[i,j])\n",
    "                    new_v[i,j] = v_next(v, horizontal, vertical)*gamma + reward\n",
    "                    delta = max(delta, abs(new_v[i,j]-v[i,j]))\n",
    "        v = new_v\n",
    "        if delta < min_delta:\n",
    "            break\n",
    "\n",
    "    ## policy improvement\n",
    "    policy_stable = True\n",
    "    for i in range(grid_size):\n",
    "        for j in range(grid_size):\n",
    "            if not (i==j==0 or i==j==grid_size-1):\n",
    "                idx = np.argmax([v_next(v,i+1,j),v_next(v,i-1,j),v_next(v,i,j-1),v_next(v,i,j+1)])\n",
    "                if policies[i,j] != actions[idx]:\n",
    "                    policy_stable = False\n",
    "                policies[i,j] = actions[idx]\n",
    "    \n",
    "    k += 1\n",
    "    if policy_stable:\n",
    "        break\n",
    "        \n",
    "print('# of iteration:',k)\n",
    "print(v)\n",
    "print(policies)"
   ]
  },
  {
   "cell_type": "code",
   "execution_count": 96,
   "metadata": {},
   "outputs": [
    {
     "name": "stdout",
     "output_type": "stream",
     "text": [
      "[[ 0. -1. -2. -3.]\n",
      " [-1. -2. -3. -2.]\n",
      " [-2. -3. -2. -1.]\n",
      " [-3. -2. -1.  0.]]\n",
      "[['' 'left' 'left' 'up']\n",
      " ['down' 'down' 'up' 'up']\n",
      " ['down' 'up' 'up' 'up']\n",
      " ['down' 'right' 'right' '']]\n"
     ]
    }
   ],
   "source": [
    "## Value Iteration on page 83\n",
    "v = np.zeros((grid_size, grid_size))\n",
    "while True:\n",
    "    delta = 0\n",
    "    new_v = v.copy()\n",
    "    for i in range(grid_size):\n",
    "        for j in range(grid_size):\n",
    "            if not (i==j==0 or i==j==grid_size-1):\n",
    "                new_v[i,j] = max([v_next(v,i+1,j),v_next(v,i-1,j),v_next(v,i,j-1),v_next(v,i,j+1)])*gamma + reward\n",
    "                delta = max(delta, abs(new_v[i,j]-v[i,j]))\n",
    "    v = new_v\n",
    "    if delta < min_delta:\n",
    "        break\n",
    "\n",
    "for i in range(grid_size):\n",
    "    for j in range(grid_size):\n",
    "        if not (i==j==0 or i==j==grid_size-1):\n",
    "            idx = np.argmax([v_next(v,i+1,j),v_next(v,i-1,j),v_next(v,i,j-1),v_next(v,i,j+1)])\n",
    "            policies[i,j] = actions[idx]\n",
    "            \n",
    "print(v)\n",
    "print(policies)"
   ]
  }
 ],
 "metadata": {
  "kernelspec": {
   "display_name": "Python 3",
   "language": "python",
   "name": "python3"
  },
  "language_info": {
   "codemirror_mode": {
    "name": "ipython",
    "version": 3
   },
   "file_extension": ".py",
   "mimetype": "text/x-python",
   "name": "python",
   "nbconvert_exporter": "python",
   "pygments_lexer": "ipython3",
   "version": "3.6.5"
  }
 },
 "nbformat": 4,
 "nbformat_minor": 2
}
