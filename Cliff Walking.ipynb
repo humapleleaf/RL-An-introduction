{
 "cells": [
  {
   "cell_type": "code",
   "execution_count": 1,
   "metadata": {},
   "outputs": [],
   "source": [
    "import numpy as np\n",
    "import matplotlib.pyplot as plt\n",
    "from tqdm import tqdm\n",
    "\n",
    "GRID_LENGTH = 4\n",
    "GRID_WIDTH = 12\n",
    "ACTION_NUM = 4\n",
    "GAMMA = 1 # discounting rate\n",
    "ACTIONS = [(-1,0), (1,0), (0,-1), (0,1)] # up, down, left and right\n",
    "START = (GRID_LENGTH-1, 0)\n",
    "GOAL = (GRID_LENGTH-1, GRID_WIDTH-1)"
   ]
  },
  {
   "cell_type": "code",
   "execution_count": 14,
   "metadata": {},
   "outputs": [],
   "source": [
    "# @return: reward and new_state\n",
    "def choose_action(state, q_value, epsilon):\n",
    "    i, j = state\n",
    "    assert 0 <= i < GRID_LENGTH\n",
    "    assert 0 <= j < GRID_WIDTH\n",
    "    if np.random.random() < epsilon:\n",
    "        action = np.random.randint(ACTION_NUM)\n",
    "    else:\n",
    "        maxidx = [idx for idx in range(ACTION_NUM) if q_value[i,j,idx]==max(q_value[i,j,:])]\n",
    "        action = np.random.choice(maxidx)          # broken arbitrarily with ties\n",
    "\n",
    "    #### rebound when hitting the boundary #######\n",
    "    #### action: 0-up, 1-down, 2-left, 3-right ####\n",
    "#     if i == 0 and action == 0:\n",
    "#         action = 1\n",
    "#     elif i == GRID_LENGTH - 1 and action == 1:\n",
    "#         action = 0\n",
    "#     if j == 0 and action == 2:\n",
    "#         action = 3\n",
    "#     elif j == GRID_WIDTH - 1 and action == 3:\n",
    "#         action = 2\n",
    "\n",
    "    return action\n",
    "\n",
    "\n",
    "# @return: reward and the new state\n",
    "def walk(state, action):\n",
    "    assert 0 <= action < ACTION_NUM\n",
    "    i, j = state\n",
    "    di, dj = ACTIONS[action]\n",
    "    i, j = min(max(0, di+i), GRID_LENGTH-1), min(max(0, dj+j), GRID_WIDTH-1)    # stand still when hitting the boundary\n",
    "    if i == GRID_LENGTH - 1 and 1 <= j < GRID_WIDTH - 1: # i=3 and 1<=j<=10\n",
    "        reward = -100\n",
    "        new_state = START\n",
    "    else:\n",
    "        reward = -1\n",
    "        new_state = (i, j)\n",
    "    return reward, new_state\n",
    "\n",
    "# @alpha: step size for undating# @return: sum of rewards within an episode\n",
    "def sarsa(q_value, alpha, expected=False, epsilon=0.1, gamma=GAMMA):\n",
    "    state = START\n",
    "    rewards = 0\n",
    "    action = choose_action(state, q_value, epsilon)\n",
    "    while state != GOAL:\n",
    "        reward, new_state = walk(state, action)\n",
    "        rewards += reward\n",
    "        new_action = choose_action(new_state, q_value, epsilon)\n",
    "        if expected:\n",
    "            i, j = new_state[0], new_state[1]\n",
    "            maxidx = [idx for idx in range(ACTION_NUM) if q_value[i,j,idx]==max(q_value[i,j,:])]\n",
    "            expectation = 0\n",
    "            for idx in range(ACTION_NUM):\n",
    "                if idx in maxidx:\n",
    "                    expectation += ((1 - epsilon)/len(maxidx) + epsilon/ACTION_NUM)*q_value[i, j, idx]\n",
    "                else:\n",
    "                    expectation += epsilon/ACTION_NUM*q_value[i, j, idx]\n",
    "            q_value[state[0],state[1],action] += alpha*(reward + gamma*expectation - q_value[state[0], state[1], action])\n",
    "        else:\n",
    "            q_value[state[0],state[1],action] += alpha*(reward + \\\n",
    "                gamma*q_value[new_state[0], new_state[1], new_action] - q_value[state[0], state[1], action])       \n",
    "        state = new_state\n",
    "        action = new_action\n",
    "    return rewards\n",
    "\n",
    "def q_learning(q_value, alpha, epsilon=0.1, gamma=GAMMA):\n",
    "    state = START\n",
    "    rewards = 0\n",
    "    while state != GOAL:\n",
    "        action = choose_action(state, q_value, epsilon)\n",
    "        reward, new_state = walk(state, action)\n",
    "        rewards += reward\n",
    "        q_value[state[0], state[1], action] += alpha*(reward + \\\n",
    "        gamma*max(q_value[new_state[0], new_state[1], :]) - q_value[state[0], state[1], action])\n",
    "        state = new_state\n",
    "    return rewards"
   ]
  },
  {
   "cell_type": "code",
   "execution_count": 12,
   "metadata": {
    "scrolled": true
   },
   "outputs": [
    {
     "name": "stderr",
     "output_type": "stream",
     "text": [
      "100%|████████████████████████████████████████| 500/500 [06:31<00:00,  1.33it/s]\n"
     ]
    },
    {
     "data": {
      "image/png": "[encoded data removed]",
      "text/plain": [
       "<Figure size 432x288 with 1 Axes>"
      ]
     },
     "metadata": {},
     "output_type": "display_data"
    }
   ],
   "source": [
    "runs = 500\n",
    "episodes = 500\n",
    "epsilon = 0.1                            # TODO: how about descending over time?\n",
    "alpha = 0.5                              # step size\n",
    "rewards_sarsa = np.zeros(episodes)\n",
    "rewards_q_learning = np.zeros(episodes)\n",
    "\n",
    "for i in tqdm(range(runs)):\n",
    "    q_sarsa = np.zeros((GRID_LENGTH, GRID_WIDTH, ACTION_NUM))\n",
    "    q_q_learning = q_sarsa.copy()\n",
    "\n",
    "    for episode in range(episodes):\n",
    "        rewards_sarsa[episode] += sarsa(q_sarsa, alpha, epsilon=0.1, gamma=GAMMA)\n",
    "        rewards_q_learning[episode] += q_learning(q_q_learning, alpha, epsilon=0.1, gamma=GAMMA)\n",
    "\n",
    "rewards_sarsa /= runs\n",
    "rewards_q_learning /= runs\n",
    "\n",
    "plt.plot(range(episodes), rewards_sarsa, label='sarsa')\n",
    "plt.plot(range(episodes), rewards_q_learning, label='q_learning')\n",
    "plt.legend()\n",
    "plt.axis([0,episodes,-100,0])\n",
    "plt.show()"
   ]
  },
  {
   "cell_type": "markdown",
   "metadata": {},
   "source": [
    "## Expected Sarsa: figure 6.3"
   ]
  },
  {
   "cell_type": "code",
   "execution_count": null,
   "metadata": {},
   "outputs": [],
   "source": [
    "alpha = range(0, 1.1, 0.1)"
   ]
  }
 ],
 "metadata": {
  "kernelspec": {
   "display_name": "Python 3",
   "language": "python",
   "name": "python3"
  },
  "language_info": {
   "codemirror_mode": {
    "name": "ipython",
    "version": 3
   },
   "file_extension": ".py",
   "mimetype": "text/x-python",
   "name": "python",
   "nbconvert_exporter": "python",
   "pygments_lexer": "ipython3",
   "version": "3.6.5"
  }
 },
 "nbformat": 4,
 "nbformat_minor": 2
}
