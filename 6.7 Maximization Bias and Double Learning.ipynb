{
 "cells": [
  {
   "cell_type": "code",
   "execution_count": 1,
   "metadata": {},
   "outputs": [],
   "source": [
    "import numpy as np\n",
    "import matplotlib.pyplot as plt\n",
    "from tqdm import tqdm\n",
    "\n",
    "GAMMA = 1\n",
    "alpha = 0.1\n",
    "epsilon = 0.1\n",
    "episodes = 300\n",
    "runs = 10000\n",
    "action_num = 10 # the action number from B\n",
    "actions_left = np.zeros((episodes, 2)) # counts left actions from A"
   ]
  },
  {
   "cell_type": "code",
   "execution_count": 3,
   "metadata": {},
   "outputs": [],
   "source": [
    "def choose_action(q1, state, q2=None, epsilon=0.1):\n",
    "    if q2 is None:\n",
    "        q_value = q1[state]\n",
    "    else:\n",
    "        q_value = q1[state] + q2[state]\n",
    "    assert 1 <= state <= 2\n",
    "    if np.random.random() < epsilon:\n",
    "        action = np.random.randint(len(q_value))\n",
    "    else:\n",
    "        maxidx = [idx for idx in range(len(q_value)) if q_value[idx]==max(q_value)]\n",
    "        action = np.random.choice(maxidx)\n",
    "    return action\n",
    "\n",
    "def update(q1, state, new_state, action, reward, q2=None, alpha=0.1, gamma=GAMMA):\n",
    "    if q2 is None:\n",
    "        q1[state][action] += alpha*(reward + gamma*max(q1[new_state]) - q1[state][action])\n",
    "    else:\n",
    "        if np.random.random() < 0.5:\n",
    "            maxidx = [idx for idx in range(len(q1[new_state])) if q1[new_state][idx]==max(q1[new_state])]\n",
    "            q1[state][action] += alpha*(reward + gamma*q2[new_state][np.random.choice(maxidx)] - q1[state][action])\n",
    "        else:\n",
    "            maxidx = [idx for idx in range(len(q2[new_state])) if q2[new_state][idx]==max(q2[new_state])]\n",
    "            q2[state][action] += alpha*(reward + gamma*q1[new_state][np.random.choice(maxidx)] - q2[state][action])\n",
    "    return q1, q2"
   ]
  },
  {
   "cell_type": "code",
   "execution_count": 4,
   "metadata": {},
   "outputs": [
    {
     "name": "stderr",
     "output_type": "stream",
     "text": [
      "100%|████████████████████████████████████| 10000/10000 [05:17<00:00, 31.52it/s]\n"
     ]
    },
    {
     "data": {
      "image/png": "[encoded data removed]",
      "text/plain": [
       "<Figure size 432x288 with 1 Axes>"
      ]
     },
     "metadata": {},
     "output_type": "display_data"
    }
   ],
   "source": [
    "for i in tqdm(range(runs)):\n",
    "    for method in range(2): # 0 denotes q learning while 2 denotes doulbe q\n",
    "        # ### two actions for A and many, say 10, for B # ##\n",
    "        q_value = [np.zeros(1), np.zeros(action_num), np.zeros(2), np.zeros(1)]\n",
    "        if method:\n",
    "            qq_value = [np.zeros(1), np.zeros(action_num), np.zeros(2), np.zeros(1)]\n",
    "        else:\n",
    "            qq_value = None\n",
    "        for episode in range(episodes):\n",
    "            state = 2\n",
    "            action = choose_action(q1=q_value, state=state, q2=qq_value, epsilon=epsilon) # choose action from A\n",
    "            if action: # 0 denotes left and 1 denotes right\n",
    "                new_state = 3\n",
    "            else:\n",
    "                new_state = 1\n",
    "                actions_left[episode, method] += 1\n",
    "            q_value, qq_value = update(q_value, state, new_state, action, reward=0, q2=qq_value, alpha=alpha)\n",
    "\n",
    "            state = new_state\n",
    "            if state == 1:\n",
    "                action = choose_action(q1=q_value, state=state, q2=qq_value, epsilon=epsilon)\n",
    "                reward = np.random.normal(loc=-0.1)\n",
    "                q_value, qq_value = update(q1=q_value, state=state, new_state=0, action=action, reward=reward, q2=qq_value)\n",
    "            elif state == 3:\n",
    "                continue\n",
    "            else:\n",
    "                raise ValueError('wrong state value!')\n",
    "\n",
    "actions_left /= runs\n",
    "\n",
    "plt.plot(range(episodes), actions_left[:, 0], label='Q learning')\n",
    "plt.plot(range(episodes), actions_left[:, 1], label='double Q learning')\n",
    "plt.plot(range(episodes), [epsilon/2]*episodes, label='optimal')\n",
    "plt.legend()\n",
    "plt.show()"
   ]
  }
 ],
 "metadata": {
  "kernelspec": {
   "display_name": "Python 3",
   "language": "python",
   "name": "python3"
  },
  "language_info": {
   "codemirror_mode": {
    "name": "ipython",
    "version": 3
   },
   "file_extension": ".py",
   "mimetype": "text/x-python",
   "name": "python",
   "nbconvert_exporter": "python",
   "pygments_lexer": "ipython3",
   "version": "3.6.5"
  }
 },
 "nbformat": 4,
 "nbformat_minor": 2
}
