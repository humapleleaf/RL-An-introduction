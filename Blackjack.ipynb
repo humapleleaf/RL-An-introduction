{
 "cells": [
  {
   "cell_type": "code",
   "execution_count": 1,
   "metadata": {},
   "outputs": [],
   "source": [
    "import numpy as np\n",
    "import matplotlib.pyplot as plt"
   ]
  },
  {
   "cell_type": "code",
   "execution_count": 18,
   "metadata": {},
   "outputs": [],
   "source": [
    "cards = [1,2,3,4,5]\n"
   ]
  },
  {
   "cell_type": "code",
   "execution_count": null,
   "metadata": {},
   "outputs": [],
   "source": [
    "def sum_hands(cards):\n",
    "    cards = [min(card, 10) for card in cards]\n",
    "    sum_cards = sum(cards)\n",
    "    if (1 in cards) and sum_cards <= 11:\n",
    "        sum_cards += 10\n",
    "        usable_ace = True\n",
    "    else:\n",
    "        usable_ace = False\n",
    "    return sum_cards, usable_ace"
   ]
  },
  {
   "cell_type": "code",
   "execution_count": null,
   "metadata": {},
   "outputs": [],
   "source": [
    "NUMBER_OF_GAMES = 1e8\n",
    "TYPE_OF_CARDS = 13\n",
    "\n",
    "for i in range(NUMBER_OF_GAMES):\n",
    "    deck = list(range(1, TYPE_OF_CARDS+1))*4          #one pack of cards\n",
    "    np.random.shuffle(deck)\n",
    "    player = deck[:2]\n",
    "    dealer = deck[2:4]\n",
    "    deck = deck[4:]\n",
    "    showing_card = dealer[0]\n",
    "    \n",
    "    sump = sum_hands(player)\n",
    "    sumd = sum_hands(dealer)\n",
    "    usable_ace = 1 if sump <"
   ]
  }
 ],
 "metadata": {
  "kernelspec": {
   "display_name": "Python 3",
   "language": "python",
   "name": "python3"
  },
  "language_info": {
   "codemirror_mode": {
    "name": "ipython",
    "version": 3
   },
   "file_extension": ".py",
   "mimetype": "text/x-python",
   "name": "python",
   "nbconvert_exporter": "python",
   "pygments_lexer": "ipython3",
   "version": "3.6.5"
  }
 },
 "nbformat": 4,
 "nbformat_minor": 2
}
